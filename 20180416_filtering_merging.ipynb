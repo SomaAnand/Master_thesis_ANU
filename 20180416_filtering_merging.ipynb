{
 "cells": [
  {
   "cell_type": "code",
   "execution_count": 1,
   "metadata": {},
   "outputs": [],
   "source": [
    "import pandas as pd\n",
    "import os"
   ]
  },
  {
   "cell_type": "code",
   "execution_count": 2,
   "metadata": {},
   "outputs": [],
   "source": [
    "basedir = '/mnt/c/MinION16S_analysis/'\n",
    "sample_name = 'Hare_1'"
   ]
  },
  {
   "cell_type": "code",
   "execution_count": 3,
   "metadata": {},
   "outputs": [],
   "source": [
    "input_folder = os.path.join(basedir, 'input')\n",
    "output_folder = os.path.join(basedir, 'output')\n",
    "taxa_file_path = os.path.join(input_folder, 'taxa_%s.csv' % sample_name)\n",
    "QC_file_path = os.path.join(input_folder, 'QC_%s.csv' % sample_name)"
   ]
  },
  {
   "cell_type": "code",
   "execution_count": 4,
   "metadata": {},
   "outputs": [],
   "source": [
    "taxa_df = pd.read_csv(taxa_file_path, sep=',')\n",
    "QC_df = pd.read_csv(QC_file_path, sep = ',')"
   ]
  },
  {
   "cell_type": "code",
   "execution_count": 5,
   "metadata": {},
   "outputs": [],
   "source": [
    "taxa_df.drop(columns=['filename', 'runid', 'barcode', 'lca'], inplace=True)"
   ]
  },
  {
   "cell_type": "code",
   "execution_count": 6,
   "metadata": {},
   "outputs": [],
   "source": [
    "QC_df.drop(columns=['filename', 'barcode', 'run_id', 'start_time'], inplace=True)"
   ]
  },
  {
   "cell_type": "code",
   "execution_count": 7,
   "metadata": {},
   "outputs": [
    {
     "data": {
      "text/html": [
       "<div>\n",
       "<style scoped>\n",
       "    .dataframe tbody tr th:only-of-type {\n",
       "        vertical-align: middle;\n",
       "    }\n",
       "\n",
       "    .dataframe tbody tr th {\n",
       "        vertical-align: top;\n",
       "    }\n",
       "\n",
       "    .dataframe thead th {\n",
       "        text-align: right;\n",
       "    }\n",
       "</style>\n",
       "<table border=\"1\" class=\"dataframe\">\n",
       "  <thead>\n",
       "    <tr style=\"text-align: right;\">\n",
       "      <th></th>\n",
       "      <th>read_id</th>\n",
       "      <th>exit_status</th>\n",
       "      <th>seqlen</th>\n",
       "      <th>mean_qscore</th>\n",
       "    </tr>\n",
       "  </thead>\n",
       "  <tbody>\n",
       "    <tr>\n",
       "      <th>0</th>\n",
       "      <td>d68ffc2a-fb1a-4a7b-9efc-fd2f3818a9b4</td>\n",
       "      <td>Basecall failed qscore filter</td>\n",
       "      <td>1509</td>\n",
       "      <td>5.158</td>\n",
       "    </tr>\n",
       "    <tr>\n",
       "      <th>1</th>\n",
       "      <td>265312b1-01ea-4583-b1ac-9c2db9307aa3</td>\n",
       "      <td>Basecall failed qscore filter</td>\n",
       "      <td>1845</td>\n",
       "      <td>4.779</td>\n",
       "    </tr>\n",
       "    <tr>\n",
       "      <th>2</th>\n",
       "      <td>0c6a050f-a3a2-45d7-911a-2c2f9638a2d3</td>\n",
       "      <td>Basecall failed qscore filter</td>\n",
       "      <td>199</td>\n",
       "      <td>6.277</td>\n",
       "    </tr>\n",
       "    <tr>\n",
       "      <th>3</th>\n",
       "      <td>60a454e5-9916-4cd3-9608-d370c9a17017</td>\n",
       "      <td>Basecall failed qscore filter</td>\n",
       "      <td>1644</td>\n",
       "      <td>4.748</td>\n",
       "    </tr>\n",
       "    <tr>\n",
       "      <th>4</th>\n",
       "      <td>88cf53bd-9953-4d35-bad1-c29762060b98</td>\n",
       "      <td>Basecall failed qscore filter</td>\n",
       "      <td>475</td>\n",
       "      <td>5.375</td>\n",
       "    </tr>\n",
       "  </tbody>\n",
       "</table>\n",
       "</div>"
      ],
      "text/plain": [
       "                                read_id                    exit_status  \\\n",
       "0  d68ffc2a-fb1a-4a7b-9efc-fd2f3818a9b4  Basecall failed qscore filter   \n",
       "1  265312b1-01ea-4583-b1ac-9c2db9307aa3  Basecall failed qscore filter   \n",
       "2  0c6a050f-a3a2-45d7-911a-2c2f9638a2d3  Basecall failed qscore filter   \n",
       "3  60a454e5-9916-4cd3-9608-d370c9a17017  Basecall failed qscore filter   \n",
       "4  88cf53bd-9953-4d35-bad1-c29762060b98  Basecall failed qscore filter   \n",
       "\n",
       "   seqlen  mean_qscore  \n",
       "0    1509        5.158  \n",
       "1    1845        4.779  \n",
       "2     199        6.277  \n",
       "3    1644        4.748  \n",
       "4     475        5.375  "
      ]
     },
     "execution_count": 7,
     "metadata": {},
     "output_type": "execute_result"
    }
   ],
   "source": [
    "QC_df.head()"
   ]
  },
  {
   "cell_type": "code",
   "execution_count": 8,
   "metadata": {},
   "outputs": [
    {
     "data": {
      "text/html": [
       "<div>\n",
       "<style scoped>\n",
       "    .dataframe tbody tr th:only-of-type {\n",
       "        vertical-align: middle;\n",
       "    }\n",
       "\n",
       "    .dataframe tbody tr th {\n",
       "        vertical-align: top;\n",
       "    }\n",
       "\n",
       "    .dataframe thead th {\n",
       "        text-align: right;\n",
       "    }\n",
       "</style>\n",
       "<table border=\"1\" class=\"dataframe\">\n",
       "  <thead>\n",
       "    <tr style=\"text-align: right;\">\n",
       "      <th></th>\n",
       "      <th>read_id</th>\n",
       "      <th>exit_status</th>\n",
       "      <th>taxid</th>\n",
       "      <th>accuracy</th>\n",
       "    </tr>\n",
       "  </thead>\n",
       "  <tbody>\n",
       "    <tr>\n",
       "      <th>0</th>\n",
       "      <td>003a56bb-4ec8-46de-b27c-c4f84b92490f</td>\n",
       "      <td>Classification successful</td>\n",
       "      <td>541000</td>\n",
       "      <td>82.35</td>\n",
       "    </tr>\n",
       "    <tr>\n",
       "      <th>1</th>\n",
       "      <td>00523973-dc9e-4a75-8b1d-0b3b3d7e412b</td>\n",
       "      <td>Classification successful</td>\n",
       "      <td>2</td>\n",
       "      <td>82.96</td>\n",
       "    </tr>\n",
       "    <tr>\n",
       "      <th>2</th>\n",
       "      <td>009a72ba-a56b-4ecf-bb03-5a59a00551f9</td>\n",
       "      <td>Classification successful</td>\n",
       "      <td>1490</td>\n",
       "      <td>95.56</td>\n",
       "    </tr>\n",
       "    <tr>\n",
       "      <th>3</th>\n",
       "      <td>00da588c-259d-4cfe-8c22-d7463ebdb540</td>\n",
       "      <td>Classification successful</td>\n",
       "      <td>1490</td>\n",
       "      <td>91.14</td>\n",
       "    </tr>\n",
       "    <tr>\n",
       "      <th>4</th>\n",
       "      <td>0110c200-e72b-4c78-986e-67ade768d439</td>\n",
       "      <td>Classification successful</td>\n",
       "      <td>29369</td>\n",
       "      <td>96.20</td>\n",
       "    </tr>\n",
       "  </tbody>\n",
       "</table>\n",
       "</div>"
      ],
      "text/plain": [
       "                                read_id                exit_status   taxid  \\\n",
       "0  003a56bb-4ec8-46de-b27c-c4f84b92490f  Classification successful  541000   \n",
       "1  00523973-dc9e-4a75-8b1d-0b3b3d7e412b  Classification successful       2   \n",
       "2  009a72ba-a56b-4ecf-bb03-5a59a00551f9  Classification successful    1490   \n",
       "3  00da588c-259d-4cfe-8c22-d7463ebdb540  Classification successful    1490   \n",
       "4  0110c200-e72b-4c78-986e-67ade768d439  Classification successful   29369   \n",
       "\n",
       "   accuracy  \n",
       "0     82.35  \n",
       "1     82.96  \n",
       "2     95.56  \n",
       "3     91.14  \n",
       "4     96.20  "
      ]
     },
     "execution_count": 8,
     "metadata": {},
     "output_type": "execute_result"
    }
   ],
   "source": [
    "taxa_df.head()"
   ]
  },
  {
   "cell_type": "code",
   "execution_count": 9,
   "metadata": {},
   "outputs": [],
   "source": [
    "QC_df_filtered_readid = QC_df[QC_df.read_id.isin(taxa_df.read_id) == True]"
   ]
  },
  {
   "cell_type": "code",
   "execution_count": 10,
   "metadata": {},
   "outputs": [],
   "source": [
    "final_df = pd.merge(QC_df_filtered_readid, taxa_df, how='outer', left_on='read_id', right_on='read_id')"
   ]
  },
  {
   "cell_type": "code",
   "execution_count": 11,
   "metadata": {},
   "outputs": [],
   "source": [
    "# filtere out exit status x column\n",
    "final_df_QC1 = final_df[final_df.exit_status_x=='Workflow successful']"
   ]
  },
  {
   "cell_type": "code",
   "execution_count": 12,
   "metadata": {},
   "outputs": [
    {
     "data": {
      "text/html": [
       "<div>\n",
       "<style scoped>\n",
       "    .dataframe tbody tr th:only-of-type {\n",
       "        vertical-align: middle;\n",
       "    }\n",
       "\n",
       "    .dataframe tbody tr th {\n",
       "        vertical-align: top;\n",
       "    }\n",
       "\n",
       "    .dataframe thead th {\n",
       "        text-align: right;\n",
       "    }\n",
       "</style>\n",
       "<table border=\"1\" class=\"dataframe\">\n",
       "  <thead>\n",
       "    <tr style=\"text-align: right;\">\n",
       "      <th></th>\n",
       "      <th>exit_status_x</th>\n",
       "      <th>seqlen</th>\n",
       "      <th>mean_qscore</th>\n",
       "      <th>read_id</th>\n",
       "      <th>exit_status_y</th>\n",
       "      <th>taxid</th>\n",
       "      <th>accuracy</th>\n",
       "    </tr>\n",
       "  </thead>\n",
       "  <tbody>\n",
       "  </tbody>\n",
       "</table>\n",
       "</div>"
      ],
      "text/plain": [
       "Empty DataFrame\n",
       "Columns: [exit_status_x, seqlen, mean_qscore, read_id, exit_status_y, taxid, accuracy]\n",
       "Index: []"
      ]
     },
     "execution_count": 12,
     "metadata": {},
     "output_type": "execute_result"
    }
   ],
   "source": [
    "final_df_QC1"
   ]
  },
  {
   "cell_type": "code",
   "execution_count": null,
   "metadata": {},
   "outputs": [],
   "source": []
  }
 ],
 "metadata": {
  "kernelspec": {
   "display_name": "Python 3",
   "language": "python",
   "name": "python3"
  },
  "language_info": {
   "codemirror_mode": {
    "name": "ipython",
    "version": 3
   },
   "file_extension": ".py",
   "mimetype": "text/x-python",
   "name": "python",
   "nbconvert_exporter": "python",
   "pygments_lexer": "ipython3",
   "version": "3.6.8"
  }
 },
 "nbformat": 4,
 "nbformat_minor": 2
}
